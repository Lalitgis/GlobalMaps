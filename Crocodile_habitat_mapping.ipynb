In this work, I introduced the IUCN’s geospatial data set consisting of thousands of species’ recorded habitats. 
After a short statistical overview, I showed how to access, visualize, and manipulate these geospatial data sets to inspire future work.
While at the end, I built my simple index quantifying the level of wildlife endangerment in different countries, the IUCN provides ready-made 
maps to this end, building on much more sophisticated methodologies.

